{
  "nbformat": 4,
  "nbformat_minor": 0,
  "metadata": {
    "colab": {
      "name": "itertools and math .ipynb",
      "provenance": []
    },
    "kernelspec": {
      "name": "python3",
      "display_name": "Python 3"
    },
    "language_info": {
      "name": "python"
    }
  },
  "cells": [
    {
      "cell_type": "markdown",
      "source": [
        "**Math**\n",
        "\n",
        "Python has a built-in module that you can use for mathematical tasks.\n",
        "\n",
        "The math module has a set of methods and constants.\n",
        "\n",
        "for more methods: https://www.w3schools.com/python/module_math.asp"
      ],
      "metadata": {
        "id": "lAM0cTvFPGYh"
      }
    },
    {
      "cell_type": "code",
      "source": [
        "import math\n",
        "\n",
        "# finding the squareroot of a number\n",
        "print(math.sqrt(25))\n",
        "\n",
        "# Round numbers down to the nearest integer\n",
        "print(math.floor(0.6))\n",
        "\n",
        "# Round a number upward to its nearest integer\n",
        "print(math.ceil(5.3))\n",
        "\n",
        "#find the  the greatest common divisor of the two integers\n",
        "print (math.gcd(3, 6))\n",
        "\n",
        "#Return the value of 9 raised to the power of 3\n",
        "print(math.pow(9, 2))"
      ],
      "metadata": {
        "colab": {
          "base_uri": "https://localhost:8080/"
        },
        "id": "ONxVR81tPLYC",
        "outputId": "d51ce05a-32ac-4258-ef84-0dbc0455010a"
      },
      "execution_count": 99,
      "outputs": [
        {
          "output_type": "stream",
          "name": "stdout",
          "text": [
            "5.0\n",
            "0\n",
            "6\n",
            "3\n",
            "81.0\n"
          ]
        }
      ]
    },
    {
      "cell_type": "markdown",
      "source": [
        "**iterator,iterables and generator**\n",
        "\n",
        "iterables -> something can be looped over eg. list (we can loop over)"
      ],
      "metadata": {
        "id": "o15Ynskfv3nV"
      }
    },
    {
      "cell_type": "code",
      "execution_count": 100,
      "metadata": {
        "colab": {
          "base_uri": "https://localhost:8080/"
        },
        "id": "IFy7yfxwv18O",
        "outputId": "ce78d3e0-3ae2-460a-9a87-25da92ed667b"
      },
      "outputs": [
        {
          "output_type": "stream",
          "name": "stdout",
          "text": [
            "andy\n",
            "roy\n",
            "sebastian\n"
          ]
        }
      ],
      "source": [
        "names = [\"andy\",\"roy\",\"sebastian\"]\n",
        "for name in names:\n",
        "  print(name)"
      ]
    },
    {
      "cell_type": "markdown",
      "source": [
        "In oop in python there are magic/dunder methods available from that there is one method called **__iter__()**\n",
        "\n"
      ],
      "metadata": {
        "id": "y1yN_qTMwnSZ"
      }
    },
    {
      "cell_type": "code",
      "source": [
        "print(dir(names))"
      ],
      "metadata": {
        "id": "6IMzPhQ1wGDc",
        "colab": {
          "base_uri": "https://localhost:8080/"
        },
        "outputId": "23ff7884-56b3-4986-e1bc-26061f2d246c"
      },
      "execution_count": 101,
      "outputs": [
        {
          "output_type": "stream",
          "name": "stdout",
          "text": [
            "['__add__', '__class__', '__contains__', '__delattr__', '__delitem__', '__dir__', '__doc__', '__eq__', '__format__', '__ge__', '__getattribute__', '__getitem__', '__gt__', '__hash__', '__iadd__', '__imul__', '__init__', '__init_subclass__', '__iter__', '__le__', '__len__', '__lt__', '__mul__', '__ne__', '__new__', '__reduce__', '__reduce_ex__', '__repr__', '__reversed__', '__rmul__', '__setattr__', '__setitem__', '__sizeof__', '__str__', '__subclasshook__', 'append', 'clear', 'copy', 'count', 'extend', 'index', 'insert', 'pop', 'remove', 'reverse', 'sort']\n"
          ]
        }
      ]
    },
    {
      "cell_type": "code",
      "source": [
        "# names = [\"rhea\", \"john\", \"'andy\"]\n",
        "#             0       1        3\n",
        "# next = 0\n",
        "# next = 1\n",
        "# next = 3\n",
        "\n",
        "# print(next(names))"
      ],
      "metadata": {
        "id": "If0y9fA3w92L"
      },
      "execution_count": 102,
      "outputs": []
    },
    {
      "cell_type": "markdown",
      "source": [
        "**iterator** \n",
        "\n",
        "It's an object with a state so that it remembers where it is during the iteration, it has __iter__(),__next__() as dunder methods, they can only go forward by using next\n",
        "\n",
        "iter() function  returns an iterator \n",
        "\n",
        "next() function to manually iterate through all the items of an iterator.\n"
      ],
      "metadata": {
        "id": "RNoVigQr0D6Q"
      }
    },
    {
      "cell_type": "code",
      "source": [
        "names = [\"andy\",\"roy\",\"sebastian\"]\n",
        "i_names = names.__iter__()\n",
        "print(i_names)\n",
        "i_next = next(i_names)\n",
        "print(i_next)\n",
        "print(dir(i_names))"
      ],
      "metadata": {
        "colab": {
          "base_uri": "https://localhost:8080/"
        },
        "id": "DF5X7CVPzDeZ",
        "outputId": "1728ade9-16d6-4c5c-cc7e-1f2be357afba"
      },
      "execution_count": 103,
      "outputs": [
        {
          "output_type": "stream",
          "name": "stdout",
          "text": [
            "<list_iterator object at 0x7f4bdb255550>\n",
            "andy\n",
            "['__class__', '__delattr__', '__dir__', '__doc__', '__eq__', '__format__', '__ge__', '__getattribute__', '__gt__', '__hash__', '__init__', '__init_subclass__', '__iter__', '__le__', '__length_hint__', '__lt__', '__ne__', '__new__', '__next__', '__reduce__', '__reduce_ex__', '__repr__', '__setattr__', '__setstate__', '__sizeof__', '__str__', '__subclasshook__']\n"
          ]
        }
      ]
    },
    {
      "cell_type": "code",
      "source": [
        "i_names = iter(names)\n",
        "print(i_names)\n",
        "i_next = next(i_names)\n",
        "print(i_next)\n",
        "print(dir(i_names))"
      ],
      "metadata": {
        "colab": {
          "base_uri": "https://localhost:8080/"
        },
        "id": "HZRnIFDoz9wi",
        "outputId": "6eeb43e4-1b2d-4af7-e3d0-15d82a807a6b"
      },
      "execution_count": 104,
      "outputs": [
        {
          "output_type": "stream",
          "name": "stdout",
          "text": [
            "<list_iterator object at 0x7f4bdb2553d0>\n",
            "andy\n",
            "['__class__', '__delattr__', '__dir__', '__doc__', '__eq__', '__format__', '__ge__', '__getattribute__', '__gt__', '__hash__', '__init__', '__init_subclass__', '__iter__', '__le__', '__length_hint__', '__lt__', '__ne__', '__new__', '__next__', '__reduce__', '__reduce_ex__', '__repr__', '__setattr__', '__setstate__', '__sizeof__', '__str__', '__subclasshook__']\n"
          ]
        }
      ]
    },
    {
      "cell_type": "code",
      "source": [
        "i_names = iter(names)\n",
        "print(next(i_names))"
      ],
      "metadata": {
        "colab": {
          "base_uri": "https://localhost:8080/"
        },
        "id": "uLlIsTDOUBbI",
        "outputId": "4197242e-2d1e-4151-e1a2-b30d0cf0fea3"
      },
      "execution_count": 105,
      "outputs": [
        {
          "output_type": "stream",
          "name": "stdout",
          "text": [
            "andy\n"
          ]
        }
      ]
    },
    {
      "cell_type": "markdown",
      "source": [
        "As its has object with a state so that it remembers where it is during the iteration and if we run the next for the 4th time it will give an stopiteration exception as it has no 4th element in the list but for for loop it knows how to handle the exception\n",
        "\n",
        "for loop function:\n",
        "1. getting iterator of our original object\n",
        "2. and then getting the next value until it hits the stopiteration exception\n",
        "\n",
        "i.e.\n",
        "\n",
        "    while True:\n",
        "      try:\n",
        "        item = next(i_names)\n",
        "        print(names)\n",
        "      except StopIteration:\n",
        "        break"
      ],
      "metadata": {
        "id": "qbjA8BcU02oy"
      }
    },
    {
      "cell_type": "code",
      "source": [
        "i_names = iter(names)\n",
        "print(next(i_names))\n",
        "print(next(i_names))\n",
        "print(next(i_names))"
      ],
      "metadata": {
        "colab": {
          "base_uri": "https://localhost:8080/"
        },
        "id": "PxDnm5680e-J",
        "outputId": "4987ca7a-2189-46ad-ba2b-f63f3b0bcfeb"
      },
      "execution_count": 106,
      "outputs": [
        {
          "output_type": "stream",
          "name": "stdout",
          "text": [
            "andy\n",
            "roy\n",
            "sebastian\n"
          ]
        }
      ]
    },
    {
      "cell_type": "code",
      "source": [
        "class Iterator:\n",
        "  def __init__(self,start,end):\n",
        "    self.value = start\n",
        "    self.end = end\n",
        "  \n",
        "  def __iter__(self):\n",
        "    return self       # as it return next\n",
        "  \n",
        "  def __next__(self):\n",
        "    if self.value >= self.end:\n",
        "      raise StopIteration\n",
        "    else:\n",
        "      state = self.value\n",
        "      self.value += 1\n",
        "      return state\n",
        "\n",
        "nums = Iterator(1,3)\n",
        "\n",
        "# for num in nums:\n",
        "#   print(num)\n",
        "\n",
        "# print(next(nums))\n",
        "# print(next(nums))\n",
        "# print(next(nums))\n"
      ],
      "metadata": {
        "id": "Zjd9Haco4ske"
      },
      "execution_count": 107,
      "outputs": []
    },
    {
      "cell_type": "markdown",
      "source": [
        "**Generator**\n",
        "\n",
        "-> They are useful to create easy-to-read iterators and they basically yeild a value instead of result and it keep that state until generator is run again & yeilds the next value\n",
        "\n",
        "-> Every generator is an iterator but every iterator is not a generator\n",
        "\n",
        "-> Function is used to implement a generator.\n",
        "\t\n"
      ],
      "metadata": {
        "id": "pUA76ymS6MgQ"
      }
    },
    {
      "cell_type": "code",
      "source": [
        "def generator(start,end):\n",
        "  state = start\n",
        "  while state < end:\n",
        "    yield state\n",
        "    state += 1\n",
        "\n",
        "nums = generator(1,3)\n",
        "\n",
        "for num in nums:\n",
        "  print(num)"
      ],
      "metadata": {
        "colab": {
          "base_uri": "https://localhost:8080/"
        },
        "id": "38EtfAZk6SJ8",
        "outputId": "43193bcf-52ef-46d7-cd61-8fcd648568ad"
      },
      "execution_count": 108,
      "outputs": [
        {
          "output_type": "stream",
          "name": "stdout",
          "text": [
            "1\n",
            "2\n"
          ]
        }
      ]
    },
    {
      "cell_type": "markdown",
      "source": [
        "**Itertools module:**\n",
        "\n",
        "doc link: https://docs.python.org/3/library/itertools.html\n",
        "\n",
        "It contains the number of commonly used iterators as well as functions for combining several iterators.\n",
        "\n",
        "**Infinite iterators:**\n",
        "*   count()\n",
        "*   cycle()\n",
        "*   repeat()\n"
      ],
      "metadata": {
        "id": "3tl0Stmc-ZCF"
      }
    },
    {
      "cell_type": "code",
      "source": [
        "import itertools"
      ],
      "metadata": {
        "id": "GqppwxYt63cY"
      },
      "execution_count": 109,
      "outputs": []
    },
    {
      "cell_type": "markdown",
      "source": [
        " **count(start=0, step=1)**\n",
        "\n",
        "Make an iterator that returns evenly spaced values starting with number start\n"
      ],
      "metadata": {
        "id": "aFur8WQb_6vH"
      }
    },
    {
      "cell_type": "code",
      "source": [
        "# count\n",
        "c = itertools.count() # infinite loop\n",
        "print(next(c))\n",
        "print(next(c))\n",
        "\n",
        "# c = itertools.count(start=3) # start with 3\n",
        "# print(next(c))\n",
        "# print(next(c))\n",
        "\n",
        "\n",
        "# a = itertools.count(2, 3) # start with 2 with step 3\n",
        "# print(next(a))\n",
        "# print(next(a))\n",
        "# print(next(a))\n",
        "\n",
        "\n"
      ],
      "metadata": {
        "colab": {
          "base_uri": "https://localhost:8080/"
        },
        "id": "kk2PN1XL_cuZ",
        "outputId": "3b4adcd1-7b7c-4750-e57f-02f2f0668096"
      },
      "execution_count": 110,
      "outputs": [
        {
          "output_type": "stream",
          "name": "stdout",
          "text": [
            "0\n",
            "1\n"
          ]
        }
      ]
    },
    {
      "cell_type": "markdown",
      "source": [
        "**cycle(iterable)**\n",
        "\n",
        "Make an iterator returning elements from the iterable and saving a copy of each. When the iterable is exhausted, return elements from the saved copy"
      ],
      "metadata": {
        "id": "kbQ3MRCQEl0b"
      }
    },
    {
      "cell_type": "code",
      "source": [
        "data = [1,2,3]\n",
        "c = itertools.cycle(data) \n",
        "print(next(c))\n",
        "print(next(c))\n",
        "print(next(c))\n",
        "print(next(c))\n",
        "print(next(c))\n",
        "print(next(c))\n"
      ],
      "metadata": {
        "colab": {
          "base_uri": "https://localhost:8080/"
        },
        "id": "AfE1Yjw9CW4X",
        "outputId": "f8059101-2a0b-4fb4-be51-0bba6200f398"
      },
      "execution_count": 111,
      "outputs": [
        {
          "output_type": "stream",
          "name": "stdout",
          "text": [
            "1\n",
            "2\n",
            "3\n",
            "1\n",
            "2\n",
            "3\n"
          ]
        }
      ]
    },
    {
      "cell_type": "markdown",
      "source": [
        "**repeat(object, times=None)**\n",
        "\n",
        " Make an iterator that returns object over and over again"
      ],
      "metadata": {
        "id": "IPcd_vNeFG6k"
      }
    },
    {
      "cell_type": "code",
      "source": [
        "c = itertools.repeat(3) \n",
        "print(next(c))\n",
        "print(next(c))\n",
        "\n",
        "# data = itertools.repeat(3,4) # repeating 3 - 4-times \n",
        "# for d in data:\n",
        "#   print(d)\n",
        "\n"
      ],
      "metadata": {
        "colab": {
          "base_uri": "https://localhost:8080/"
        },
        "id": "HVFJcw3yFBMc",
        "outputId": "ecb0c8e9-4c25-4d36-be86-802ab5f138f7"
      },
      "execution_count": 112,
      "outputs": [
        {
          "output_type": "stream",
          "name": "stdout",
          "text": [
            "3\n",
            "3\n"
          ]
        }
      ]
    },
    {
      "cell_type": "markdown",
      "source": [
        "**Iterators terminating on the shortest input sequence:**\n",
        "\n",
        "\n",
        "\n",
        "*   zip()\n",
        "*   zip_longest()\n",
        "*   chain()\n",
        "*   islice()\n",
        "*   groupby()\n",
        "\n",
        "\n",
        "\n"
      ],
      "metadata": {
        "id": "qF__uU-5II_2"
      }
    },
    {
      "cell_type": "markdown",
      "source": [
        " **zip(*iterables, strict=False)**\n",
        "\n",
        "Iterate over several iterables in parallel, producing tuples with an item from each one.\n",
        "\n",
        "In cases where the iterables are assumed to be of equal length. In such cases, it’s recommended to use the ***strict=True*** option"
      ],
      "metadata": {
        "id": "Pe_DuU9NB-lH"
      }
    },
    {
      "cell_type": "code",
      "source": [
        "nums = [1,2,3]\n",
        "names = [\"andy\",\"roy\",\"peter\"]\n",
        "for item in zip(nums,names):\n",
        "  print(item)"
      ],
      "metadata": {
        "colab": {
          "base_uri": "https://localhost:8080/"
        },
        "id": "5IOBsq5dBglW",
        "outputId": "fee504d5-7e2b-4ced-88e1-72e74dc81a2e"
      },
      "execution_count": 113,
      "outputs": [
        {
          "output_type": "stream",
          "name": "stdout",
          "text": [
            "(1, 'andy')\n",
            "(2, 'roy')\n",
            "(3, 'peter')\n"
          ]
        }
      ]
    },
    {
      "cell_type": "markdown",
      "source": [
        "**zip_longest(*iterables, fillvalue=None)** \n",
        "\n",
        "Iteration continues until the longest iterable is exhausted."
      ],
      "metadata": {
        "id": "O0aD1jaxDmRw"
      }
    },
    {
      "cell_type": "code",
      "source": [
        "nums = [1,2,3,4,5,6]\n",
        "names = [\"andy\",\"roy\",\"peter\"]\n",
        "for item in itertools.zip_longest(nums,names):\n",
        "  print(item)\n",
        "\n",
        "# nums = [1,2,3,4,5,6]\n",
        "# names = [\"andy\",\"roy\",\"peter\"]\n",
        "# for item in itertools.zip_longest(nums,names,fillvalue=\"missing\"):\n",
        "#   print(item)"
      ],
      "metadata": {
        "colab": {
          "base_uri": "https://localhost:8080/"
        },
        "id": "mGmsJLiqDmAA",
        "outputId": "822a11a3-f9a8-4b29-bc49-89b382021e0d"
      },
      "execution_count": 114,
      "outputs": [
        {
          "output_type": "stream",
          "name": "stdout",
          "text": [
            "(1, 'andy')\n",
            "(2, 'roy')\n",
            "(3, 'peter')\n",
            "(4, None)\n",
            "(5, None)\n",
            "(6, None)\n"
          ]
        }
      ]
    },
    {
      "cell_type": "markdown",
      "source": [
        "**chain(*iterables)**\n",
        "\n",
        "Make an iterator that returns elements from the first iterable until it is exhausted, then proceeds to the next iterable, until all of the iterables are exhausted."
      ],
      "metadata": {
        "id": "l1Sdbj6HIuLj"
      }
    },
    {
      "cell_type": "code",
      "source": [
        "# not an efficient way for millions of data elements\n",
        "l1 = [1,2,3]\n",
        "l2 = ['a','b','c']\n",
        "l3 = [\"andy\",\"andrew\",\"peter\"]\n",
        "l = l1 + l2 + l3\n",
        "for item in l:\n",
        "  print(item)\n",
        "\n",
        "# efficient way\n",
        "# l1 = [1,2,3]\n",
        "# l2 = ['a','b','c']\n",
        "# l3 = [\"andy\",\"andrew\",\"peter\"]\n",
        "# l = itertools.chain(l1,l2,l3)\n",
        "# for item in l:\n",
        "#   print(item)"
      ],
      "metadata": {
        "colab": {
          "base_uri": "https://localhost:8080/"
        },
        "id": "a-gbIHuWItf7",
        "outputId": "cae7d077-57ab-4fca-f4d7-b76b5357abbd"
      },
      "execution_count": 115,
      "outputs": [
        {
          "output_type": "stream",
          "name": "stdout",
          "text": [
            "1\n",
            "2\n",
            "3\n",
            "a\n",
            "b\n",
            "c\n",
            "andy\n",
            "andrew\n",
            "peter\n"
          ]
        }
      ]
    },
    {
      "cell_type": "markdown",
      "source": [
        "**islice(iterable, stop)**\n",
        "\n",
        "Similar to list slicing but it can be used to slice the iterator\n"
      ],
      "metadata": {
        "id": "6U0lU5GKKeCJ"
      }
    },
    {
      "cell_type": "code",
      "source": [
        "l1 = [1,2,3]\n",
        "l2 = ['a','b','c']\n",
        "l3 = [\"andy\",\"andrew\",\"peter\"]\n",
        "list_of_lists = itertools.chain(l1,l2,l3)\n",
        "res = itertools.islice(list_of_lists,2,8) # starts with 2 ends with 8\n",
        "for item in res:\n",
        "  print(item)"
      ],
      "metadata": {
        "colab": {
          "base_uri": "https://localhost:8080/"
        },
        "id": "iEcvZqHEJqsT",
        "outputId": "b2401bba-3a45-492d-992b-dc5445ce6b93"
      },
      "execution_count": 116,
      "outputs": [
        {
          "output_type": "stream",
          "name": "stdout",
          "text": [
            "3\n",
            "a\n",
            "b\n",
            "c\n",
            "andy\n",
            "andrew\n"
          ]
        }
      ]
    },
    {
      "cell_type": "markdown",
      "source": [
        "**groupby(iterable, key=None)**\n",
        "\n",
        "It will group value based on a certain key and will return a stram of tuples"
      ],
      "metadata": {
        "id": "70CcJTf0MvoZ"
      }
    },
    {
      "cell_type": "code",
      "source": [
        "characters = [(\"Avengers\", \"Spiderman\"), \n",
        "          (\"Avengers\", \"Ironman\"), \n",
        "          (\"DC\", \"Batman\"), \n",
        "          (\"DC\", \"Flash\")]\n",
        "\n",
        "\n",
        "\n",
        "# A lambda function is a small anonymous function.\n",
        "# A lambda function can take any number of arguments, but can only have one expression.\n",
        "# Syntax: lambda arguments : expression\n",
        "\n",
        "an_iterator = itertools.groupby(characters, lambda x : x[0])\n",
        "for key, group in an_iterator:\n",
        "    key_and_group = {key : list(group)}\n",
        "    print(key_and_group)"
      ],
      "metadata": {
        "colab": {
          "base_uri": "https://localhost:8080/"
        },
        "id": "xA_TdtWEN6d4",
        "outputId": "88b58f5d-c2a5-458c-a695-8fb2bc69ead4"
      },
      "execution_count": 117,
      "outputs": [
        {
          "output_type": "stream",
          "name": "stdout",
          "text": [
            "{'Avengers': [('Avengers', 'Spiderman'), ('Avengers', 'Ironman')]}\n",
            "{'DC': [('DC', 'Batman'), ('DC', 'Flash')]}\n"
          ]
        }
      ]
    }
  ]
}